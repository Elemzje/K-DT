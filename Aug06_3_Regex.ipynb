{
  "nbformat": 4,
  "nbformat_minor": 0,
  "metadata": {
    "colab": {
      "provenance": [],
      "authorship_tag": "ABX9TyPggt82ZBCam0w9QMUKTsSC",
      "include_colab_link": true
    },
    "kernelspec": {
      "name": "python3",
      "display_name": "Python 3"
    },
    "language_info": {
      "name": "python"
    }
  },
  "cells": [
    {
      "cell_type": "markdown",
      "metadata": {
        "id": "view-in-github",
        "colab_type": "text"
      },
      "source": [
        "<a href=\"https://colab.research.google.com/github/Elemzje/K-DT/blob/master/Aug06_3_Regex.ipynb\" target=\"_parent\"><img src=\"https://colab.research.google.com/assets/colab-badge.svg\" alt=\"Open In Colab\"/></a>"
      ]
    },
    {
      "cell_type": "code",
      "execution_count": 1,
      "metadata": {
        "id": "dFvPJBooa-T3"
      },
      "outputs": [],
      "source": [
        "# 파이썬에서 정규 표현식을 사용할 때, 내장 모듈인 re를 사용\n",
        "import re"
      ]
    },
    {
      "cell_type": "markdown",
      "source": [
        "# 메타 문자로 표현해서 일대일매칭\n",
        "\n",
        "# 메타 문자 : 특수한 기능을 하는 문자\n",
        "- . : 한 개의 임의의 문자\n",
        "- ? : 앞의 문자가 존재할 수도 있고, 없을수도 있음 (문자가 0개 또는 1개)\n",
        "- ＊ : 앞의 문자가 무한개로 존재할 수도 있고, 없을수도 있음 (문자가 0개 이상)\n",
        "- ＋ : 앞의 문자가 최소 1개 이상 존재함\n",
        "- ^ : 뒤의 문자열로 문자열이 시작\n",
        "- $ : 앞의 문자열로 문자열이 끝난다\n",
        "- {숫자} : 숫자만큼 반복\n",
        "- [문자] : 대괄호 안의 문자들 중 한개의 문자와 매칭함\n",
        "- [^문자] : 해당 문자를 제외한 문자를 매칭함"
      ],
      "metadata": {
        "id": "I3CdUrRrbXc8"
      }
    },
    {
      "cell_type": "code",
      "source": [
        "# re.match() 함수 : [문자열 처음]에 시작하는 패턴이 일치하는지 => 불일치시 None 반환\n",
        "# re.match(패턴, 문자열)\n",
        "print(re.match('a', 'a'))\n",
        "print(re.match('a', 'abc'))\n",
        "print(re.match('a', 'bca'))\n",
        "\n",
        "# 결과창의 span=(x, y) : matching되는 문자열의 위치를 반환, span(이상, 미만)"
      ],
      "metadata": {
        "colab": {
          "base_uri": "https://localhost:8080/"
        },
        "id": "aNhxgeXmbXAr",
        "outputId": "05740a52-99d8-4091-c01c-468680b92fa4"
      },
      "execution_count": 5,
      "outputs": [
        {
          "output_type": "stream",
          "name": "stdout",
          "text": [
            "<re.Match object; span=(0, 1), match='a'>\n",
            "<re.Match object; span=(0, 1), match='a'>\n",
            "None\n"
          ]
        }
      ]
    },
    {
      "cell_type": "code",
      "source": [
        "# re.search() 함수 : 처음이 아니더라도 문자열 어딘가에\n",
        "#          패턴에 해당하는 문자가 있으면 그 위치를 반환\n",
        "print(re.search('a', 'a'))\n",
        "print(re.search('a', 'bbb'))\n",
        "print(re.search('a', 'bba'))\n",
        "print(re.search('a', 'bqwerbtase'))"
      ],
      "metadata": {
        "colab": {
          "base_uri": "https://localhost:8080/"
        },
        "id": "0pQ5sXUBdOoZ",
        "outputId": "68f84eed-7c97-4a00-e7d7-ee7f3d68473c"
      },
      "execution_count": 7,
      "outputs": [
        {
          "output_type": "stream",
          "name": "stdout",
          "text": [
            "<re.Match object; span=(0, 1), match='a'>\n",
            "None\n",
            "<re.Match object; span=(2, 3), match='a'>\n",
            "<re.Match object; span=(4, 5), match='a'>\n"
          ]
        }
      ]
    },
    {
      "cell_type": "code",
      "source": [
        "# re.findall() 함수 : 문자열 중에서 패턴이랑 일치하는 모든 부분을 찾아줌\n",
        "print(re.findall('a', 'a'))\n",
        "print(re.findall('a', 'abca'))\n",
        "print(re.findall('a', 'aaaa'))\n",
        "print(re.findall('aaa', 'aaaa')) # 한번 반환된 리스트는 재사용되지 않는다"
      ],
      "metadata": {
        "colab": {
          "base_uri": "https://localhost:8080/"
        },
        "id": "iMySJYy2d5f1",
        "outputId": "b6ed91aa-ce91-454a-8bd1-e60fd34ede6d"
      },
      "execution_count": 9,
      "outputs": [
        {
          "output_type": "stream",
          "name": "stdout",
          "text": [
            "['a']\n",
            "['a', 'a']\n",
            "['a', 'a', 'a', 'a']\n",
            "['aaa']\n"
          ]
        }
      ]
    },
    {
      "cell_type": "code",
      "source": [
        "# re.finditer() 함수 : 패턴과 일치하는 모든 부분의 위치를 알 수 있음\n",
        "where = re.finditer('a', 'abca')\n",
        "print(where)\n",
        "\n",
        "for w in where:\n",
        "    print(w)"
      ],
      "metadata": {
        "colab": {
          "base_uri": "https://localhost:8080/"
        },
        "id": "rCsj0iE0eSDe",
        "outputId": "ea3928e2-183f-41d2-da7e-46e2c43cb0a4"
      },
      "execution_count": 11,
      "outputs": [
        {
          "output_type": "stream",
          "name": "stdout",
          "text": [
            "<callable_iterator object at 0x7970ff4298d0>\n",
            "<re.Match object; span=(0, 1), match='a'>\n",
            "<re.Match object; span=(3, 4), match='a'>\n"
          ]
        }
      ]
    },
    {
      "cell_type": "code",
      "source": [
        "# re.fullmatch() 함수 : 패턴과 문자열이 완벽하게 일치할 경우에 그 위치를 반환\n",
        "print(re.fullmatch('a', 'a'))\n",
        "print(re.fullmatch('a', 'aaa'))\n",
        "print(re.fullmatch('a', 'abcde'))"
      ],
      "metadata": {
        "colab": {
          "base_uri": "https://localhost:8080/"
        },
        "id": "vGQ8wAwze8e6",
        "outputId": "531b3e9a-2c9a-4b01-ff91-1edb1d9febc3"
      },
      "execution_count": 12,
      "outputs": [
        {
          "output_type": "stream",
          "name": "stdout",
          "text": [
            "<re.Match object; span=(0, 1), match='a'>\n",
            "None\n",
            "None\n"
          ]
        }
      ]
    },
    {
      "cell_type": "code",
      "source": [
        "matching = re.search('happy', 'Do not worry, be happy.')\n",
        "print(matching)\n",
        "\n",
        "# match 관련 method\n",
        "print(matching.group()) # group() : 일치하는 문자열을 반환\n",
        "print(matching.start()) # start() : 일치하는 문자열의 시작 위치 반환\n",
        "print(matching.end())   # end() : 일치하는 문자열의 끝 위치 반환\n",
        "print(matching.span())  # span() : 일치하는 문자열의 위치를 튜플로 반환"
      ],
      "metadata": {
        "colab": {
          "base_uri": "https://localhost:8080/"
        },
        "id": "_d0boRdrfVsA",
        "outputId": "49db95b8-7379-463b-e847-e23b7916fb41"
      },
      "execution_count": 16,
      "outputs": [
        {
          "output_type": "stream",
          "name": "stdout",
          "text": [
            "<re.Match object; span=(17, 22), match='happy'>\n",
            "happy\n",
            "17\n",
            "22\n",
            "(17, 22)\n"
          ]
        }
      ]
    },
    {
      "cell_type": "markdown",
      "source": [
        "# 대괄호 [] : 여러가지 문자 중 하나랑 일치\n",
        "\n",
        "[] 대괄호 안에 원하는 문자를 여러개 넣고\n",
        "\n",
        "문자열에서 대괄호에 넣은 문자 패턴과 일치하는게 하나라도 있으면 매칭이 이루어짐\n",
        "\n",
        "or || 개념과 비슷...!\n",
        "\n",
        "re.match(['a' or 'b' or 'c'], 'a') 의 느낌"
      ],
      "metadata": {
        "id": "jCC9I9smgVcO"
      }
    },
    {
      "cell_type": "code",
      "source": [
        "# [a-z] : 소문자 a부터 z까지 하나이기만 하면 매칭 가능\n",
        "# [A-Z]\n",
        "# [0-9]\n",
        "# 한글...? Hmm... 🤔🤔🤔🤔 => [가-힣]\n",
        "# 알파벳 대소문자 => [A-Za-z]"
      ],
      "metadata": {
        "id": "HJ97cNS3fg9b"
      },
      "execution_count": 17,
      "outputs": []
    },
    {
      "cell_type": "code",
      "source": [
        "matching = re.fullmatch(\"Youre sleepy\", \"You're sleepy\")\n",
        "matching"
      ],
      "metadata": {
        "colab": {
          "base_uri": "https://localhost:8080/"
        },
        "id": "liw7J4VHhh2T",
        "outputId": "837fdc84-7c86-4150-ba0c-6f8ae3f4671e"
      },
      "execution_count": 18,
      "outputs": [
        {
          "output_type": "execute_result",
          "data": {
            "text/plain": [
              "<re.Match object; span=(0, 13), match=\"You're sleepy\">"
            ]
          },
          "metadata": {},
          "execution_count": 18
        }
      ]
    },
    {
      "cell_type": "code",
      "source": [
        "matching2 = re.search('happy [a-z]uesday', 'happy tuesday')\n",
        "print(matching2)\n",
        "\n",
        "matching3 = re.search('happy [^0-9]uesday', 'happy tuesday')\n",
        "print(matching3)"
      ],
      "metadata": {
        "colab": {
          "base_uri": "https://localhost:8080/"
        },
        "id": "uyTBCmMIh01y",
        "outputId": "76e22fd8-27a1-487f-d473-0bd4624e8ba1"
      },
      "execution_count": 20,
      "outputs": [
        {
          "output_type": "stream",
          "name": "stdout",
          "text": [
            "<re.Match object; span=(0, 13), match='happy tuesday'>\n",
            "<re.Match object; span=(0, 13), match='happy tuesday'>\n"
          ]
        }
      ]
    },
    {
      "cell_type": "code",
      "source": [
        "# re.compile() 함수 : 사용하고자 하는 패턴이 자주 이용될 때 미리 컴파일 하는 용도\n",
        "# 마침표 . : 한 개의 임의의 문자\n",
        "m = re.compile('a.c')   # a와 c사이에 어떠한 문자라도 1개 올 수 있다\n",
        "# print(m, type(m)) # re.compile('a.c') <class 're.Pattern'>\n",
        "print(m.search('abc'))\n",
        "print(m.search('aaa'))\n",
        "\n",
        "m2 = re.compile('a..c')\n",
        "print(m2.search('abbc'))\n",
        "print(m2.search('awbcefjiosaoidvnzsnkewtkn'))"
      ],
      "metadata": {
        "colab": {
          "base_uri": "https://localhost:8080/"
        },
        "id": "1QEPSpn4iApL",
        "outputId": "4d1edc6c-26a7-4d96-e6f2-8bbe9c3c6af6"
      },
      "execution_count": 36,
      "outputs": [
        {
          "output_type": "stream",
          "name": "stdout",
          "text": [
            "re.compile('a.c') <class 're.Pattern'>\n",
            "<re.Match object; span=(0, 3), match='abc'>\n",
            "None\n",
            "<re.Match object; span=(0, 4), match='abbc'>\n",
            "<re.Match object; span=(0, 4), match='awbc'>\n"
          ]
        }
      ]
    },
    {
      "cell_type": "code",
      "source": [
        "# 물음표 ? : 물음표 바로 앞에 있는 문자가 있을 수도, 없을수도 있다는 것을 의미\n",
        "q = re.compile('ab?c')\n",
        "print(q.search('abc'))\n",
        "print(q.search('ac'))\n",
        "print(q.search('adc'))\n",
        "print(q.search('abdc'))"
      ],
      "metadata": {
        "colab": {
          "base_uri": "https://localhost:8080/"
        },
        "id": "QqlY1schig3G",
        "outputId": "28bcaac6-388c-46bc-f718-347e89cb7a2d"
      },
      "execution_count": 24,
      "outputs": [
        {
          "output_type": "stream",
          "name": "stdout",
          "text": [
            "<re.Match object; span=(0, 3), match='abc'>\n",
            "<re.Match object; span=(0, 2), match='ac'>\n",
            "None\n",
            "None\n"
          ]
        }
      ]
    },
    {
      "cell_type": "code",
      "source": [
        "# * : * 바로 앞에 있는 문자가 0개 이상일 때 (없어도 되고, 많아도 됨)\n",
        "s = re.compile('ab*c')\n",
        "print(s.search('abc'))\n",
        "print(s.search('ac'))\n",
        "print(s.search('abbbbbbbbbbbbbbbbbbbbbc'))"
      ],
      "metadata": {
        "colab": {
          "base_uri": "https://localhost:8080/"
        },
        "id": "qiChuIPsphaV",
        "outputId": "c9c3bfb2-4939-4a59-8b09-156497cf377d"
      },
      "execution_count": 25,
      "outputs": [
        {
          "output_type": "stream",
          "name": "stdout",
          "text": [
            "<re.Match object; span=(0, 3), match='abc'>\n",
            "<re.Match object; span=(0, 2), match='ac'>\n",
            "<re.Match object; span=(0, 23), match='abbbbbbbbbbbbbbbbbbbbbc'>\n"
          ]
        }
      ]
    },
    {
      "cell_type": "code",
      "source": [
        "# + : * 기능과 비슷하지만, + 앞에는 문자가 최소 한개 이상\n",
        "p = re.compile('ab+c')\n",
        "print(p.search('abc'))\n",
        "print(p.search('abbbbbbbbbbbbbbbbbc'))\n",
        "print(p.search('ac'))"
      ],
      "metadata": {
        "colab": {
          "base_uri": "https://localhost:8080/"
        },
        "id": "bTNRj1ujp6sO",
        "outputId": "f5d0b423-3a13-466f-aa0f-24775b031801"
      },
      "execution_count": 27,
      "outputs": [
        {
          "output_type": "stream",
          "name": "stdout",
          "text": [
            "<re.Match object; span=(0, 3), match='abc'>\n",
            "<re.Match object; span=(0, 19), match='abbbbbbbbbbbbbbbbbc'>\n",
            "None\n"
          ]
        }
      ]
    },
    {
      "cell_type": "code",
      "source": [
        "# ^ : ^ 뒤에 나오는 문자열과 동일해야 함. 그 문자열로 시작하기만 하면 매칭이 가능\n",
        "c = re.compile('^ab')\n",
        "print(c.search('abc'))\n",
        "print(c.search('gab'))\n",
        "print(c.search('aqwerty'))"
      ],
      "metadata": {
        "colab": {
          "base_uri": "https://localhost:8080/"
        },
        "id": "mqHga6n9qMdh",
        "outputId": "d2a69660-dd19-4ebb-b41d-ffe95ee3e163"
      },
      "execution_count": 28,
      "outputs": [
        {
          "output_type": "stream",
          "name": "stdout",
          "text": [
            "<re.Match object; span=(0, 2), match='ab'>\n",
            "None\n",
            "None\n"
          ]
        }
      ]
    },
    {
      "cell_type": "code",
      "source": [
        "# {숫자} : {숫자} 바로 앞의 문자가 해당하는 숫자만큼 반복되어야 매칭이 가능\n",
        "n = re.compile('ab{3}c')\n",
        "print(n.search('abc'))\n",
        "print(n.search('abbc'))\n",
        "print(n.search('abbbc'))"
      ],
      "metadata": {
        "colab": {
          "base_uri": "https://localhost:8080/"
        },
        "id": "Z93GJLnHqekN",
        "outputId": "31ffe2cf-099c-4ca7-81a3-a1b64fa64ea0"
      },
      "execution_count": 29,
      "outputs": [
        {
          "output_type": "stream",
          "name": "stdout",
          "text": [
            "None\n",
            "None\n",
            "<re.Match object; span=(0, 5), match='abbbc'>\n"
          ]
        }
      ]
    },
    {
      "cell_type": "code",
      "source": [
        "# {숫자,숫자} : {숫자,숫자} 바로 앞의 문자가 해당하는 숫자만큼 반복되는데, 이상 ~ 이하\n",
        "nn = re.compile('ab{2,5}c')\n",
        "print(nn.search('abc'))\n",
        "print(nn.search('abbc'))\n",
        "print(nn.search('abbbbbc'))\n",
        "print(nn.search('abbbbbbbbbbbbc'))"
      ],
      "metadata": {
        "colab": {
          "base_uri": "https://localhost:8080/"
        },
        "id": "3Zo-iYkUquzt",
        "outputId": "9d2b8b02-21e1-46b3-f2ee-428778e6c78b"
      },
      "execution_count": 31,
      "outputs": [
        {
          "output_type": "stream",
          "name": "stdout",
          "text": [
            "None\n",
            "<re.Match object; span=(0, 4), match='abbc'>\n",
            "<re.Match object; span=(0, 7), match='abbbbbc'>\n",
            "None\n"
          ]
        }
      ]
    },
    {
      "cell_type": "code",
      "source": [
        "# {숫자,} : {숫자,} 바로 앞에 문자가 해당하는 숫자 이상이기만 하면 매칭이 가능\n",
        "nnn = re.compile('ab{2,}c')\n",
        "print(nnn.search('abc'))\n",
        "print(nnn.search('abbc'))\n",
        "print(nnn.search('abbbbbbbbbbbbbbbbbbbbbc'))"
      ],
      "metadata": {
        "colab": {
          "base_uri": "https://localhost:8080/"
        },
        "id": "OX1kO-varFzO",
        "outputId": "889d65fe-4f9e-4288-daa4-9494d458ad28"
      },
      "execution_count": 32,
      "outputs": [
        {
          "output_type": "stream",
          "name": "stdout",
          "text": [
            "None\n",
            "<re.Match object; span=(0, 4), match='abbc'>\n",
            "<re.Match object; span=(0, 23), match='abbbbbbbbbbbbbbbbbbbbbc'>\n"
          ]
        }
      ]
    },
    {
      "cell_type": "markdown",
      "source": [
        "# re.split() 함수\n",
        "\n",
        "기본 : 공백 기준 분리\n",
        "- 띄어쓰기 기준으로 단어를 나눠서 리스트로 리턴"
      ],
      "metadata": {
        "id": "5BsScp_TreSd"
      }
    },
    {
      "cell_type": "code",
      "source": [
        "tt = \"\"\"모니터\n",
        "마우스\n",
        "키보드\n",
        "마이크\n",
        "카메라\n",
        "본체\"\"\"\n",
        "print(tt)\n",
        "re.split('\\n', tt)"
      ],
      "metadata": {
        "colab": {
          "base_uri": "https://localhost:8080/"
        },
        "id": "NOzrj03mr4IO",
        "outputId": "d72a07e6-7374-4519-c1d3-a892781691e3"
      },
      "execution_count": 35,
      "outputs": [
        {
          "output_type": "stream",
          "name": "stdout",
          "text": [
            "모니터\n",
            "마우스\n",
            "키보드\n",
            "마이크\n",
            "카메라\n",
            "본체\n"
          ]
        },
        {
          "output_type": "execute_result",
          "data": {
            "text/plain": [
              "['모니터', '마우스', '키보드', '마이크', '카메라', '본체']"
            ]
          },
          "metadata": {},
          "execution_count": 35
        }
      ]
    }
  ]
}