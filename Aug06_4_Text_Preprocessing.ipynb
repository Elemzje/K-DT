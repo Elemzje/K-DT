{
  "nbformat": 4,
  "nbformat_minor": 0,
  "metadata": {
    "colab": {
      "provenance": [],
      "authorship_tag": "ABX9TyOPXUlmLkHv0DmYr9SOxVvH",
      "include_colab_link": true
    },
    "kernelspec": {
      "name": "python3",
      "display_name": "Python 3"
    },
    "language_info": {
      "name": "python"
    }
  },
  "cells": [
    {
      "cell_type": "markdown",
      "metadata": {
        "id": "view-in-github",
        "colab_type": "text"
      },
      "source": [
        "<a href=\"https://colab.research.google.com/github/Elemzje/K-DT/blob/master/Aug06_4_Text_Preprocessing.ipynb\" target=\"_parent\"><img src=\"https://colab.research.google.com/assets/colab-badge.svg\" alt=\"Open In Colab\"/></a>"
      ]
    },
    {
      "cell_type": "markdown",
      "source": [
        "# 표제어 추출 (Lemmatization)\n",
        "\n",
        "말뭉치(코퍼스)의 단어의 갯수를 줄일 수 있는 기법\n",
        "\n",
        "be 동사 : be, am, are, is\n",
        "\n",
        "공부하다 : 공부하고, 공부때문에, 공부여서, 공부덕분에, ...\n",
        "\n",
        "- 분석시에 단어 빈도수 기반으로 진행 => 자연어 처리 단계에서 상당히 자주 사용\n",
        "\n",
        "- 형태소로부터 단어를 만들어가는...\n",
        "    - 어간(stem) : 의미가 있는 단어의 핵심부분\n",
        "    - 접사(affix) : 단어에 추가적인 의미를 부여하는 부분\n",
        "\n",
        "    형태학적 파싱 : 코퍼스에서 어간과 접사를 분리하는 것\n",
        "\n",
        "ex) students => student + s"
      ],
      "metadata": {
        "id": "V8Xz_gRgGhLB"
      }
    },
    {
      "cell_type": "code",
      "execution_count": 1,
      "metadata": {
        "colab": {
          "base_uri": "https://localhost:8080/"
        },
        "id": "ezyuRGphGXQh",
        "outputId": "392e2bd9-ba5c-4cc3-ad8d-2c46fd47c23c"
      },
      "outputs": [
        {
          "output_type": "stream",
          "name": "stderr",
          "text": [
            "[nltk_data] Downloading package wordnet to /root/nltk_data...\n"
          ]
        },
        {
          "output_type": "execute_result",
          "data": {
            "text/plain": [
              "True"
            ]
          },
          "metadata": {},
          "execution_count": 1
        }
      ],
      "source": [
        "import nltk\n",
        "nltk.download('wordnet')"
      ]
    },
    {
      "cell_type": "code",
      "source": [
        "# WordNetLemmatizer : NLTK에서 지원하는 표제어 추출 도구\n",
        "from nltk.stem import WordNetLemmatizer\n",
        "nltk.download('omw-1.4')"
      ],
      "metadata": {
        "colab": {
          "base_uri": "https://localhost:8080/"
        },
        "id": "I9JAwRKXH5wq",
        "outputId": "5f595c88-f791-4ac5-bc2e-37857f48fafb"
      },
      "execution_count": 3,
      "outputs": [
        {
          "output_type": "stream",
          "name": "stderr",
          "text": [
            "[nltk_data] Downloading package omw-1.4 to /root/nltk_data...\n"
          ]
        },
        {
          "output_type": "execute_result",
          "data": {
            "text/plain": [
              "True"
            ]
          },
          "metadata": {},
          "execution_count": 3
        }
      ]
    },
    {
      "cell_type": "code",
      "source": [
        "lemmatizer = WordNetLemmatizer()\n",
        "\n",
        "words = ['sky', 'computer', 'having', 'lives', 'love', 'mouse', 'dies', 'listened', 'ate', 'has']\n",
        "print('추출 전 :', words)\n",
        "print('추출 후 :', [lemmatizer.lemmatize(word) for word in words])"
      ],
      "metadata": {
        "colab": {
          "base_uri": "https://localhost:8080/"
        },
        "id": "1-y-9tbvII5a",
        "outputId": "38fcea19-eb57-45d7-df1e-5cd6b9e2ef64"
      },
      "execution_count": 21,
      "outputs": [
        {
          "output_type": "stream",
          "name": "stdout",
          "text": [
            "추출 전 : ['sky', 'computer', 'having', 'lives', 'love', 'mouse', 'dies', 'listened', 'ate', 'has']\n",
            "추출 후 : ['sky', 'computer', 'having', 'life', 'love', 'mouse', 'dy', 'listened', 'ate', 'ha']\n"
          ]
        }
      ]
    },
    {
      "cell_type": "code",
      "source": [
        "lemmatizer.lemmatize('dies', 'v')"
      ],
      "metadata": {
        "colab": {
          "base_uri": "https://localhost:8080/",
          "height": 35
        },
        "id": "8DLvGR36I_Xc",
        "outputId": "c224da6c-8f56-4d4b-a72b-17ae5a5acee3"
      },
      "execution_count": 5,
      "outputs": [
        {
          "output_type": "execute_result",
          "data": {
            "text/plain": [
              "'die'"
            ],
            "application/vnd.google.colaboratory.intrinsic+json": {
              "type": "string"
            }
          },
          "metadata": {},
          "execution_count": 5
        }
      ]
    },
    {
      "cell_type": "code",
      "source": [
        "lemmatizer.lemmatize('listened', 'v')"
      ],
      "metadata": {
        "colab": {
          "base_uri": "https://localhost:8080/",
          "height": 35
        },
        "id": "R3pA3_dWJPYX",
        "outputId": "087fb9c0-5efe-438e-aef1-1b663c689a6a"
      },
      "execution_count": 6,
      "outputs": [
        {
          "output_type": "execute_result",
          "data": {
            "text/plain": [
              "'listen'"
            ],
            "application/vnd.google.colaboratory.intrinsic+json": {
              "type": "string"
            }
          },
          "metadata": {},
          "execution_count": 6
        }
      ]
    },
    {
      "cell_type": "code",
      "source": [
        "lemmatizer.lemmatize('better', 'a')\n",
        "\n",
        "# v : 동사 / a : 형용사 / n : 명사 / r : 부사"
      ],
      "metadata": {
        "colab": {
          "base_uri": "https://localhost:8080/",
          "height": 35
        },
        "id": "-q6qaG3qJXJp",
        "outputId": "2d97c4d5-ec1b-4b08-d3f0-22bb30e4cda9"
      },
      "execution_count": 7,
      "outputs": [
        {
          "output_type": "execute_result",
          "data": {
            "text/plain": [
              "'good'"
            ],
            "application/vnd.google.colaboratory.intrinsic+json": {
              "type": "string"
            }
          },
          "metadata": {},
          "execution_count": 7
        }
      ]
    },
    {
      "cell_type": "markdown",
      "source": [
        "# 어간 추출(Stemming)"
      ],
      "metadata": {
        "id": "1JSlH4w6Jt2a"
      }
    },
    {
      "cell_type": "code",
      "source": [
        "import nltk\n",
        "nltk.download('punkt')"
      ],
      "metadata": {
        "colab": {
          "base_uri": "https://localhost:8080/"
        },
        "id": "BMqAkHnAJd0O",
        "outputId": "4529db67-54b4-439a-e181-5d7d3634aa4a"
      },
      "execution_count": 8,
      "outputs": [
        {
          "output_type": "stream",
          "name": "stderr",
          "text": [
            "[nltk_data] Downloading package punkt to /root/nltk_data...\n",
            "[nltk_data]   Unzipping tokenizers/punkt.zip.\n"
          ]
        },
        {
          "output_type": "execute_result",
          "data": {
            "text/plain": [
              "True"
            ]
          },
          "metadata": {},
          "execution_count": 8
        }
      ]
    },
    {
      "cell_type": "code",
      "source": [
        "from nltk.stem import PorterStemmer\n",
        "from nltk.tokenize import word_tokenize"
      ],
      "metadata": {
        "id": "3uUS3cBuJ7Ol"
      },
      "execution_count": 9,
      "outputs": []
    },
    {
      "cell_type": "code",
      "source": [
        "sentence = \"\"\"Then I fail to follow your Majesty. If this young person should produce her letters for blackmailing or other purposes, how is she to prove their authenticity? Accustomed as I was to my friend’s amazing powers in the use of disguises, I had to look three times before I was certain that it was indeed he. With a nod he vanished into the bedroom, whence he emerged in five minutes tweed-suited and respectable, as of old. Putting his hands into his pockets, he stretched out his legs in front of the fire and laughed heartily for some minutes.\"\"\"\n",
        "sentence"
      ],
      "metadata": {
        "colab": {
          "base_uri": "https://localhost:8080/",
          "height": 90
        },
        "id": "THnaTIncKMil",
        "outputId": "2c5e4850-450b-485b-861a-a54b8b576137"
      },
      "execution_count": 10,
      "outputs": [
        {
          "output_type": "execute_result",
          "data": {
            "text/plain": [
              "'Then I fail to follow your Majesty. If this young person should produce her letters for blackmailing or other purposes, how is she to prove their authenticity? Accustomed as I was to my friend’s amazing powers in the use of disguises, I had to look three times before I was certain that it was indeed he. With a nod he vanished into the bedroom, whence he emerged in five minutes tweed-suited and respectable, as of old. Putting his hands into his pockets, he stretched out his legs in front of the fire and laughed heartily for some minutes.'"
            ],
            "application/vnd.google.colaboratory.intrinsic+json": {
              "type": "string"
            }
          },
          "metadata": {},
          "execution_count": 10
        }
      ]
    },
    {
      "cell_type": "code",
      "source": [
        "stemmer = PorterStemmer()\n",
        "\n",
        "words2 = word_tokenize(sentence)\n",
        "print(words2)\n",
        "print([stemmer.stem(w) for w in words2])"
      ],
      "metadata": {
        "colab": {
          "base_uri": "https://localhost:8080/"
        },
        "id": "klO9PCpqKNO6",
        "outputId": "a327409e-1fb9-4b30-90af-aff0a27a9847"
      },
      "execution_count": 11,
      "outputs": [
        {
          "output_type": "stream",
          "name": "stdout",
          "text": [
            "['Then', 'I', 'fail', 'to', 'follow', 'your', 'Majesty', '.', 'If', 'this', 'young', 'person', 'should', 'produce', 'her', 'letters', 'for', 'blackmailing', 'or', 'other', 'purposes', ',', 'how', 'is', 'she', 'to', 'prove', 'their', 'authenticity', '?', 'Accustomed', 'as', 'I', 'was', 'to', 'my', 'friend', '’', 's', 'amazing', 'powers', 'in', 'the', 'use', 'of', 'disguises', ',', 'I', 'had', 'to', 'look', 'three', 'times', 'before', 'I', 'was', 'certain', 'that', 'it', 'was', 'indeed', 'he', '.', 'With', 'a', 'nod', 'he', 'vanished', 'into', 'the', 'bedroom', ',', 'whence', 'he', 'emerged', 'in', 'five', 'minutes', 'tweed-suited', 'and', 'respectable', ',', 'as', 'of', 'old', '.', 'Putting', 'his', 'hands', 'into', 'his', 'pockets', ',', 'he', 'stretched', 'out', 'his', 'legs', 'in', 'front', 'of', 'the', 'fire', 'and', 'laughed', 'heartily', 'for', 'some', 'minutes', '.']\n",
            "['then', 'i', 'fail', 'to', 'follow', 'your', 'majesti', '.', 'if', 'thi', 'young', 'person', 'should', 'produc', 'her', 'letter', 'for', 'blackmail', 'or', 'other', 'purpos', ',', 'how', 'is', 'she', 'to', 'prove', 'their', 'authent', '?', 'accustom', 'as', 'i', 'wa', 'to', 'my', 'friend', '’', 's', 'amaz', 'power', 'in', 'the', 'use', 'of', 'disguis', ',', 'i', 'had', 'to', 'look', 'three', 'time', 'befor', 'i', 'wa', 'certain', 'that', 'it', 'wa', 'inde', 'he', '.', 'with', 'a', 'nod', 'he', 'vanish', 'into', 'the', 'bedroom', ',', 'whenc', 'he', 'emerg', 'in', 'five', 'minut', 'tweed-suit', 'and', 'respect', ',', 'as', 'of', 'old', '.', 'put', 'hi', 'hand', 'into', 'hi', 'pocket', ',', 'he', 'stretch', 'out', 'hi', 'leg', 'in', 'front', 'of', 'the', 'fire', 'and', 'laugh', 'heartili', 'for', 'some', 'minut', '.']\n"
          ]
        }
      ]
    },
    {
      "cell_type": "markdown",
      "source": [
        "# PorterStemmer : 알고리즘\n",
        "\n",
        "규칙 기반의 접근 => 어림짐작하는 작업 => 섬세한 작업 X => 사전에 없는 단어가 도출될수도...!\n",
        "\n",
        "- 마틴포터 홈페이지에서 다양한 것들을 살펴볼 수 있음\n",
        "- 규칙 기반의 접근\n",
        "    - -ALIZE = -AL\n",
        "    - -ANCE = 삭제\n",
        "    - -ICAL = -IC"
      ],
      "metadata": {
        "id": "W1DSxP0TKxP6"
      }
    },
    {
      "cell_type": "code",
      "source": [
        "word = ['channelize', 'allowance', 'typical']\n",
        "\n",
        "print('추출 전 : ', word)\n",
        "print('추출 후 : ', [stemmer.stem(w) for w in word])"
      ],
      "metadata": {
        "colab": {
          "base_uri": "https://localhost:8080/"
        },
        "id": "4AgcV9ZHKkLk",
        "outputId": "53667539-1fe5-4b4a-a863-f2c3b234f6ed"
      },
      "execution_count": 22,
      "outputs": [
        {
          "output_type": "stream",
          "name": "stdout",
          "text": [
            "추출 전 :  ['channelize', 'allowance', 'typical']\n",
            "추출 후 :  ['channel', 'allow', 'typic']\n"
          ]
        }
      ]
    },
    {
      "cell_type": "code",
      "source": [
        "# NLTK에서는 포터 알고리즘 외에도 랭커스터 스태머(Lancaster Stemmer) 알고리즘을 지원\n",
        "from nltk.stem import LancasterStemmer"
      ],
      "metadata": {
        "id": "Mkjnq7DILnLv"
      },
      "execution_count": 23,
      "outputs": []
    },
    {
      "cell_type": "code",
      "source": [
        "lancaster = LancasterStemmer()"
      ],
      "metadata": {
        "id": "XJsnNrexL59K"
      },
      "execution_count": 24,
      "outputs": []
    },
    {
      "cell_type": "code",
      "source": [
        "print([stemmer.stem(w) for w in words])\n",
        "print()\n",
        "print([lancaster.stem(w) for w in words])\n",
        "\n",
        "# 두 스태머가 다른 결과를 보여줌\n",
        "# 두 스태머는 서로 다른 알고리즘을 사용하기 때문!\n",
        "# 제대로된 표제어를 뽑아오지는 못하고 있음"
      ],
      "metadata": {
        "colab": {
          "base_uri": "https://localhost:8080/"
        },
        "id": "kraeOiT0L8y-",
        "outputId": "5ca36789-98f7-426f-efe6-ebf1a045bd15"
      },
      "execution_count": 25,
      "outputs": [
        {
          "output_type": "stream",
          "name": "stdout",
          "text": [
            "['sky', 'comput', 'have', 'live', 'love', 'mous', 'die', 'listen', 'ate', 'ha']\n",
            "\n",
            "['sky', 'comput', 'hav', 'liv', 'lov', 'mous', 'die', 'list', 'at', 'has']\n"
          ]
        }
      ]
    },
    {
      "cell_type": "markdown",
      "source": [
        "# 불용어 (Stopword)\n",
        "\n",
        "단어들 중에서 의미가 없는단어\n",
        "\n",
        "데이터 중에서 의미가 있는 단어 토큰만 취급하기 위해서 의미를 가지지 않은 단어들을 제거하는 작업"
      ],
      "metadata": {
        "id": "7d14YN_CMmfQ"
      }
    },
    {
      "cell_type": "code",
      "source": [
        "import nltk\n",
        "nltk.download('stopwords')\n",
        "nltk.download('punkt')"
      ],
      "metadata": {
        "colab": {
          "base_uri": "https://localhost:8080/"
        },
        "id": "zXy5MKQgMIkq",
        "outputId": "be2e8603-8653-42e9-b61a-ccc7d29b8020"
      },
      "execution_count": 26,
      "outputs": [
        {
          "output_type": "stream",
          "name": "stderr",
          "text": [
            "[nltk_data] Downloading package stopwords to /root/nltk_data...\n",
            "[nltk_data]   Unzipping corpora/stopwords.zip.\n",
            "[nltk_data] Downloading package punkt to /root/nltk_data...\n",
            "[nltk_data]   Package punkt is already up-to-date!\n"
          ]
        },
        {
          "output_type": "execute_result",
          "data": {
            "text/plain": [
              "True"
            ]
          },
          "metadata": {},
          "execution_count": 26
        }
      ]
    },
    {
      "cell_type": "code",
      "source": [
        "from nltk.corpus import stopwords"
      ],
      "metadata": {
        "id": "JtokWUXoNGMJ"
      },
      "execution_count": 27,
      "outputs": []
    },
    {
      "cell_type": "code",
      "source": [
        "# NLTK에 있는 불용어\n",
        "s = stopwords.words('english')\n",
        "print(len(s))\n",
        "print(s[:20])"
      ],
      "metadata": {
        "colab": {
          "base_uri": "https://localhost:8080/"
        },
        "id": "ebFLRCyONIfl",
        "outputId": "de05971b-e6cd-47dc-9418-3192b2c3f7de"
      },
      "execution_count": 29,
      "outputs": [
        {
          "output_type": "stream",
          "name": "stdout",
          "text": [
            "179\n",
            "['i', 'me', 'my', 'myself', 'we', 'our', 'ours', 'ourselves', 'you', \"you're\", \"you've\", \"you'll\", \"you'd\", 'your', 'yours', 'yourself', 'yourselves', 'he', 'him', 'his']\n"
          ]
        }
      ]
    },
    {
      "cell_type": "code",
      "source": [
        "sentence = \"\"\"Then I fail to follow your Majesty. If this young person should produce her letters for blackmailing or other purposes, how is she to prove their authenticity? Accustomed as I was to my friend’s amazing powers in the use of disguises, I had to look three times before I was certain that it was indeed he. With a nod he vanished into the bedroom, whence he emerged in five minutes tweed-suited and respectable, as of old. Putting his hands into his pockets, he stretched out his legs in front of the fire and laughed heartily for some minutes.\"\"\"\n",
        "\n",
        "# NLTK에서 지정한 불용어 가져오기\n",
        "sw = set(stopwords.words('english'))\n",
        "# print(sw)\n",
        "\n",
        "# 문장을 단어로 쪼개는 작업\n",
        "word = word_tokenize(sentence)\n",
        "\n",
        "# 불용어가 아닌 단어들만 list에 담아서 출력\n",
        "result = []\n",
        "for w in word:\n",
        "    if w not in sw:\n",
        "        result.append(w)\n",
        "\n",
        "print(word)\n",
        "print(result)\n"
      ],
      "metadata": {
        "colab": {
          "base_uri": "https://localhost:8080/"
        },
        "id": "ft_IO2AMNOE_",
        "outputId": "b3bf450d-e2dc-456c-ca74-d0afdd9136ba"
      },
      "execution_count": 54,
      "outputs": [
        {
          "output_type": "stream",
          "name": "stdout",
          "text": [
            "['Then', 'I', 'fail', 'to', 'follow', 'your', 'Majesty', '.', 'If', 'this', 'young', 'person', 'should', 'produce', 'her', 'letters', 'for', 'blackmailing', 'or', 'other', 'purposes', ',', 'how', 'is', 'she', 'to', 'prove', 'their', 'authenticity', '?', 'Accustomed', 'as', 'I', 'was', 'to', 'my', 'friend', '’', 's', 'amazing', 'powers', 'in', 'the', 'use', 'of', 'disguises', ',', 'I', 'had', 'to', 'look', 'three', 'times', 'before', 'I', 'was', 'certain', 'that', 'it', 'was', 'indeed', 'he', '.', 'With', 'a', 'nod', 'he', 'vanished', 'into', 'the', 'bedroom', ',', 'whence', 'he', 'emerged', 'in', 'five', 'minutes', 'tweed-suited', 'and', 'respectable', ',', 'as', 'of', 'old', '.', 'Putting', 'his', 'hands', 'into', 'his', 'pockets', ',', 'he', 'stretched', 'out', 'his', 'legs', 'in', 'front', 'of', 'the', 'fire', 'and', 'laughed', 'heartily', 'for', 'some', 'minutes', '.']\n",
            "['Then', 'I', 'fail', 'follow', 'Majesty', '.', 'If', 'young', 'person', 'produce', 'letters', 'blackmailing', 'purposes', ',', 'prove', 'authenticity', '?', 'Accustomed', 'I', 'friend', '’', 'amazing', 'powers', 'use', 'disguises', ',', 'I', 'look', 'three', 'times', 'I', 'certain', 'indeed', '.', 'With', 'nod', 'vanished', 'bedroom', ',', 'whence', 'emerged', 'five', 'minutes', 'tweed-suited', 'respectable', ',', 'old', '.', 'Putting', 'hands', 'pockets', ',', 'stretched', 'legs', 'front', 'fire', 'laughed', 'heartily', 'minutes', '.']\n"
          ]
        }
      ]
    },
    {
      "cell_type": "markdown",
      "source": [
        "# 한국어 불용어 제거하기\n",
        "\n",
        "- 토큰화 => 조사 or 접속사 명사 or 형용사에서 필요없는 단어들을 제거\n",
        "\n",
        "- 한국어의 경우에는 사용자가 직접 불용어를 지정해서 사용하는 경우가 많음"
      ],
      "metadata": {
        "id": "g8co5GmRRqfC"
      }
    },
    {
      "cell_type": "code",
      "source": [
        "!pip install Konlpy"
      ],
      "metadata": {
        "colab": {
          "base_uri": "https://localhost:8080/"
        },
        "id": "_Fhkku8DNlfw",
        "outputId": "d6da8aa0-3b99-4232-9d56-c41e76b9f4fa"
      },
      "execution_count": 34,
      "outputs": [
        {
          "output_type": "stream",
          "name": "stdout",
          "text": [
            "Collecting Konlpy\n",
            "  Downloading konlpy-0.6.0-py2.py3-none-any.whl.metadata (1.9 kB)\n",
            "Collecting JPype1>=0.7.0 (from Konlpy)\n",
            "  Downloading JPype1-1.5.0-cp310-cp310-manylinux_2_17_x86_64.manylinux2014_x86_64.whl.metadata (4.9 kB)\n",
            "Requirement already satisfied: lxml>=4.1.0 in /usr/local/lib/python3.10/dist-packages (from Konlpy) (4.9.4)\n",
            "Requirement already satisfied: numpy>=1.6 in /usr/local/lib/python3.10/dist-packages (from Konlpy) (1.26.4)\n",
            "Requirement already satisfied: packaging in /usr/local/lib/python3.10/dist-packages (from JPype1>=0.7.0->Konlpy) (24.1)\n",
            "Downloading konlpy-0.6.0-py2.py3-none-any.whl (19.4 MB)\n",
            "\u001b[2K   \u001b[90m━━━━━━━━━━━━━━━━━━━━━━━━━━━━━━━━━━━━━━━━\u001b[0m \u001b[32m19.4/19.4 MB\u001b[0m \u001b[31m67.8 MB/s\u001b[0m eta \u001b[36m0:00:00\u001b[0m\n",
            "\u001b[?25hDownloading JPype1-1.5.0-cp310-cp310-manylinux_2_17_x86_64.manylinux2014_x86_64.whl (488 kB)\n",
            "\u001b[2K   \u001b[90m━━━━━━━━━━━━━━━━━━━━━━━━━━━━━━━━━━━━━━━━\u001b[0m \u001b[32m488.6/488.6 kB\u001b[0m \u001b[31m29.7 MB/s\u001b[0m eta \u001b[36m0:00:00\u001b[0m\n",
            "\u001b[?25hInstalling collected packages: JPype1, Konlpy\n",
            "Successfully installed JPype1-1.5.0 Konlpy-0.6.0\n"
          ]
        }
      ]
    },
    {
      "cell_type": "code",
      "source": [
        "from konlpy.tag import Okt"
      ],
      "metadata": {
        "id": "JXksNR3xSOBk"
      },
      "execution_count": 35,
      "outputs": []
    },
    {
      "cell_type": "code",
      "source": [
        "okt = Okt()\n",
        "\n",
        "ex = '점심 먹고 나서 피곤하시죠? 여러분은 어떤 메뉴를 드셨나요? 저는 초밥을 먹었습니다.'\n",
        "sw = '를 어떤 는 은 을'\n",
        "\n",
        "sw = set(sw.split(' '))\n",
        "\n",
        "token = okt.morphs(ex) # 형태소 분석\n",
        "\n",
        "result = [w for w in token if w not in sw]\n",
        "\n",
        "print(token) # 불용어 제거 전\n",
        "print()\n",
        "print(result) # 불용어 제거 후"
      ],
      "metadata": {
        "colab": {
          "base_uri": "https://localhost:8080/"
        },
        "id": "EeLIhIC5SVT_",
        "outputId": "ce761342-ffe9-4882-aac2-eeded0d19d8c"
      },
      "execution_count": 57,
      "outputs": [
        {
          "output_type": "stream",
          "name": "stdout",
          "text": [
            "['점심', '먹고', '나서', '피곤하시죠', '?', '여러분', '은', '어떤', '메뉴', '를', '드셨나요', '?', '저', '는', '초밥', '을', '먹었습니다', '.']\n",
            "\n",
            "['점심', '먹고', '나서', '피곤하시죠', '?', '여러분', '메뉴', '드셨나요', '?', '저', '초밥', '먹었습니다', '.']\n"
          ]
        }
      ]
    },
    {
      "cell_type": "markdown",
      "source": [
        "# 정수 인코딩 (Integer Encoding)\n",
        "\n",
        "컴퓨터의 입장에서는 텍스트보다는 숫자를 더 쉽게 처리하는 경향이 있음\n",
        "\n",
        "텍스트에 정수를 부여하는 방법\n",
        "1. 단어를 빈도수를 기준으로 정렬\n",
        "2. 정렬된 집합 구성\n",
        "3. 빈도가 높은순 => 낮은순으로 숫자를 부여"
      ],
      "metadata": {
        "id": "mEjzpmCRS61f"
      }
    },
    {
      "cell_type": "code",
      "source": [
        "# 영어 동요\n",
        "text = \"\"\"Twinkle, twinkle, little star.\n",
        "How I wonder what you are.\n",
        "Up above the world so high.\n",
        "Like a diamond in the sky.\n",
        "When the blazing sun is gone.\n",
        "When the nothing shines upon.\n",
        "Then you show your little light.\n",
        "Twinkle, twinkle, all the night.\n",
        "Then the traveller in the dark.\n",
        "Thanks you for your little spark.\n",
        "He could not see which way to go.\n",
        "If you did not twinkle so.\n",
        "In the dark blue sky you keep.\n",
        "And often through my curtains peep.\n",
        "For you never shut your eye.\n",
        "Till the sun is in the sky.\n",
        "As your bright and tiny spark.\n",
        "Lights the traveller in the dark.\n",
        "Though I know not what you are.\n",
        "Twinkle, twinkle, little star.\"\"\"\n",
        "text"
      ],
      "metadata": {
        "colab": {
          "base_uri": "https://localhost:8080/",
          "height": 109
        },
        "id": "SrNuvOn7S6aN",
        "outputId": "6d2c67d4-78af-4ce1-df00-3c19be199014"
      },
      "execution_count": 38,
      "outputs": [
        {
          "output_type": "execute_result",
          "data": {
            "text/plain": [
              "'Twinkle, twinkle, little star.\\nHow I wonder what you are.\\nUp above the world so high.\\nLike a diamond in the sky.\\nWhen the blazing sun is gone.\\nWhen the nothing shines upon.\\nThen you show your little light.\\nTwinkle, twinkle, all the night.\\nThen the traveller in the dark.\\nThanks you for your little spark.\\nHe could not see which way to go.\\nIf you did not twinkle so.\\nIn the dark blue sky you keep.\\nAnd often through my curtains peep.\\nFor you never shut your eye.\\nTill the sun is in the sky.\\nAs your bright and tiny spark.\\nLights the traveller in the dark.\\nThough I know not what you are.\\nTwinkle, twinkle, little star.'"
            ],
            "application/vnd.google.colaboratory.intrinsic+json": {
              "type": "string"
            }
          },
          "metadata": {},
          "execution_count": 38
        }
      ]
    },
    {
      "cell_type": "code",
      "source": [
        "from nltk.tokenize import sent_tokenize # 영어 문장 토큰화\n",
        "from nltk.tokenize import word_tokenize # 영어 단어 토큰화\n",
        "from nltk.corpus import stopwords"
      ],
      "metadata": {
        "id": "69ZGOlQhUTqf"
      },
      "execution_count": 39,
      "outputs": []
    },
    {
      "cell_type": "code",
      "source": [
        "# 문장 토큰화\n",
        "sentence = sent_tokenize(text)\n",
        "sentence"
      ],
      "metadata": {
        "colab": {
          "base_uri": "https://localhost:8080/"
        },
        "id": "mImFyOYZUstw",
        "outputId": "a1b28574-6187-4da6-eb27-8f8aacbacaf2"
      },
      "execution_count": 40,
      "outputs": [
        {
          "output_type": "execute_result",
          "data": {
            "text/plain": [
              "['Twinkle, twinkle, little star.',\n",
              " 'How I wonder what you are.',\n",
              " 'Up above the world so high.',\n",
              " 'Like a diamond in the sky.',\n",
              " 'When the blazing sun is gone.',\n",
              " 'When the nothing shines upon.',\n",
              " 'Then you show your little light.',\n",
              " 'Twinkle, twinkle, all the night.',\n",
              " 'Then the traveller in the dark.',\n",
              " 'Thanks you for your little spark.',\n",
              " 'He could not see which way to go.',\n",
              " 'If you did not twinkle so.',\n",
              " 'In the dark blue sky you keep.',\n",
              " 'And often through my curtains peep.',\n",
              " 'For you never shut your eye.',\n",
              " 'Till the sun is in the sky.',\n",
              " 'As your bright and tiny spark.',\n",
              " 'Lights the traveller in the dark.',\n",
              " 'Though I know not what you are.',\n",
              " 'Twinkle, twinkle, little star.']"
            ]
          },
          "metadata": {},
          "execution_count": 40
        }
      ]
    },
    {
      "cell_type": "code",
      "source": [
        "# 단어 토큰화 => 불용어를 뺀 단어 토큰들을 list에 담기\n",
        "\n",
        "sw = set(stopwords.words('english'))\n",
        "final_sentence = []\n",
        "aa = {}\n",
        "\n",
        "for s in sentence:\n",
        "    # 단어 토큰화\n",
        "    word = word_tokenize(s)\n",
        "    result = []\n",
        "    for w in word:\n",
        "        w = w.lower() # 모든 단어를 소문자화 => 단어 갯수를 줄이는데 도움 O\n",
        "        if w not in sw:\n",
        "            if len(w) > 2:\n",
        "                result.append(w)\n",
        "                if w not in aa:\n",
        "                    aa[w] = 0\n",
        "                aa[w] += 1\n",
        "    final_sentence.append(result)\n",
        "print(final_sentence)\n",
        "print(aa)"
      ],
      "metadata": {
        "colab": {
          "base_uri": "https://localhost:8080/"
        },
        "id": "6YIg9kmmU2A_",
        "outputId": "6d8ecd45-653a-4dd4-fb65-96a453d70192"
      },
      "execution_count": 41,
      "outputs": [
        {
          "output_type": "stream",
          "name": "stdout",
          "text": [
            "[['twinkle', 'twinkle', 'little', 'star'], ['wonder'], ['world', 'high'], ['like', 'diamond', 'sky'], ['blazing', 'sun', 'gone'], ['nothing', 'shines', 'upon'], ['show', 'little', 'light'], ['twinkle', 'twinkle', 'night'], ['traveller', 'dark'], ['thanks', 'little', 'spark'], ['could', 'see', 'way'], ['twinkle'], ['dark', 'blue', 'sky', 'keep'], ['often', 'curtains', 'peep'], ['never', 'shut', 'eye'], ['till', 'sun', 'sky'], ['bright', 'tiny', 'spark'], ['lights', 'traveller', 'dark'], ['though', 'know'], ['twinkle', 'twinkle', 'little', 'star']]\n",
            "{'twinkle': 7, 'little': 4, 'star': 2, 'wonder': 1, 'world': 1, 'high': 1, 'like': 1, 'diamond': 1, 'sky': 3, 'blazing': 1, 'sun': 2, 'gone': 1, 'nothing': 1, 'shines': 1, 'upon': 1, 'show': 1, 'light': 1, 'night': 1, 'traveller': 2, 'dark': 3, 'thanks': 1, 'spark': 2, 'could': 1, 'see': 1, 'way': 1, 'blue': 1, 'keep': 1, 'often': 1, 'curtains': 1, 'peep': 1, 'never': 1, 'shut': 1, 'eye': 1, 'till': 1, 'bright': 1, 'tiny': 1, 'lights': 1, 'though': 1, 'know': 1}\n"
          ]
        }
      ]
    },
    {
      "cell_type": "code",
      "source": [
        "# 'little' 단어의 빈도수\n",
        "print(aa['little'])"
      ],
      "metadata": {
        "colab": {
          "base_uri": "https://localhost:8080/"
        },
        "id": "p6nCNxz3V4xk",
        "outputId": "8fd0e3bf-29fa-4b30-93d6-34c50108bf37"
      },
      "execution_count": 42,
      "outputs": [
        {
          "output_type": "stream",
          "name": "stdout",
          "text": [
            "4\n"
          ]
        }
      ]
    },
    {
      "cell_type": "code",
      "source": [
        "# sorted() 함수 : 빈도수대로 정렬\n",
        "# sorted(정렬할 데이터, key옵션, reverse옵션)\n",
        "#   key 옵션 : 어떤것을 기준으로 정렬할지 (key에 준 값으로 정렬)\n",
        "#   reverse 옵션 : False(default) >> 오름차순\n",
        "\n",
        "# sort() vs sorted() :\n",
        "#   sort()는 리스트 자체를 정렬해서 바꾸는 형태\n",
        "#   sorted()는 원래 리스트는 그대로 두고, 정렬한 것을 새로운 리스트에 넣는 형태\n",
        "\n",
        "# key=lambda x: x[1] => x[1]의 값이 정렬의 기준 => 빈도수를 기준으로 정렬\n",
        "\n",
        "aaSort = sorted(aa.items(), key=lambda x: x[1], reverse=True)\n",
        "print(aaSort)"
      ],
      "metadata": {
        "colab": {
          "base_uri": "https://localhost:8080/"
        },
        "id": "pDIrkYhOWNJr",
        "outputId": "62309a47-face-4fe2-ba3e-7317adf9f055"
      },
      "execution_count": 45,
      "outputs": [
        {
          "output_type": "stream",
          "name": "stdout",
          "text": [
            "[('twinkle', 7), ('little', 4), ('sky', 3), ('dark', 3), ('star', 2), ('sun', 2), ('traveller', 2), ('spark', 2), ('wonder', 1), ('world', 1), ('high', 1), ('like', 1), ('diamond', 1), ('blazing', 1), ('gone', 1), ('nothing', 1), ('shines', 1), ('upon', 1), ('show', 1), ('light', 1), ('night', 1), ('thanks', 1), ('could', 1), ('see', 1), ('way', 1), ('blue', 1), ('keep', 1), ('often', 1), ('curtains', 1), ('peep', 1), ('never', 1), ('shut', 1), ('eye', 1), ('till', 1), ('bright', 1), ('tiny', 1), ('lights', 1), ('though', 1), ('know', 1)]\n"
          ]
        }
      ]
    },
    {
      "cell_type": "code",
      "source": [
        "# [높은 빈도수]를 가지고 있는 단어일수록 [낮은 정수값]을 부여 (정수는 1부터 부여)\n",
        "\n",
        "# 빈도수가 1이하인것들은 삭제 (결과에 안나오게)\n",
        "# {'twinkle' : 1, 'little' : 2, 'sky' : 3, ...}\n",
        "\n",
        "aa_index = {}\n",
        "i = 0\n",
        "for (word, frequency) in aaSort:\n",
        "    if frequency > 1:\n",
        "        i = i + 1\n",
        "        aa_index[word] = i\n",
        "\n",
        "print(aa_index)"
      ],
      "metadata": {
        "colab": {
          "base_uri": "https://localhost:8080/"
        },
        "id": "at-wSC1NXkY2",
        "outputId": "160285b3-7487-43a7-c621-93c05ea9331f"
      },
      "execution_count": 46,
      "outputs": [
        {
          "output_type": "stream",
          "name": "stdout",
          "text": [
            "{'twinkle': 1, 'little': 2, 'sky': 3, 'dark': 4, 'star': 5, 'sun': 6, 'traveller': 7, 'spark': 8}\n"
          ]
        }
      ]
    },
    {
      "cell_type": "code",
      "source": [
        "# 단어 빈도수가 가장 높은 상위 5개 출력\n",
        "freSize = 5\n",
        "\n",
        "# 인덱스가 5초과(6이상)인 단어들을 aa_final이라는 변수에 담기\n",
        "aa_final = [w for (w, index) in aa_index.items() if index >= freSize + 1]\n",
        "\n",
        "for w in aa_final:\n",
        "    del aa_index[w]\n",
        "\n",
        "print(aa_index)"
      ],
      "metadata": {
        "colab": {
          "base_uri": "https://localhost:8080/"
        },
        "id": "0gfM3vwaYQba",
        "outputId": "0b49ae74-3e52-4b21-decf-25f0477d0bfd"
      },
      "execution_count": 48,
      "outputs": [
        {
          "output_type": "stream",
          "name": "stdout",
          "text": [
            "{'twinkle': 1, 'little': 2, 'sky': 3, 'dark': 4, 'star': 5}\n"
          ]
        }
      ]
    },
    {
      "cell_type": "code",
      "source": [
        "# ['twinkle', 'little', 'sky', 'dark', 'star', 'coffee']\n",
        "#   >> aa_index에 더이상 존재하지 않는 단어 추가\n",
        "# [1, 2, 3, 4, 5, ??]\n",
        "# Out-Of-Vocabulary : 단어 집합에 없는 단어 >> OOV\n",
        "# aa_index에 'OOV'라는 단어가 있는 자리를 하나 만들고, 그 단어집합에 존재하지 않는 단어를\n",
        "#   OOV의 인덱스로 인코딩"
      ],
      "metadata": {
        "id": "hPeATMT7YyZe"
      },
      "execution_count": 49,
      "outputs": []
    },
    {
      "cell_type": "code",
      "source": [
        "aa_index['OOV'] = len(aa_index) + 1\n",
        "print(aa_index)"
      ],
      "metadata": {
        "colab": {
          "base_uri": "https://localhost:8080/"
        },
        "id": "nGGH3BeIaEmC",
        "outputId": "1c99f87a-8c62-4742-c952-1e75dda489af"
      },
      "execution_count": 50,
      "outputs": [
        {
          "output_type": "stream",
          "name": "stdout",
          "text": [
            "{'twinkle': 1, 'little': 2, 'sky': 3, 'dark': 4, 'star': 5, 'OOV': 6}\n"
          ]
        }
      ]
    },
    {
      "cell_type": "code",
      "source": [
        "# 문장마다 텍스트 대신에 그 자리에 해당하는 인덱스로 변환\n",
        "# 문장마다 단어로 토큰화 : final_sentence\n",
        "\n",
        "encoding_sentences = []\n",
        "for fs in final_sentence:\n",
        "    encoding_sentence = []\n",
        "    for w in fs:\n",
        "        try:\n",
        "            # 단어 집합에 있는 단어면 해당 단어의 정수를 넣어줌\n",
        "            encoding_sentence.append(aa_index[w])\n",
        "        except KeyError:\n",
        "            # 단어 집합에 없는 단어면 OOV의 정수를 넣어줌\n",
        "            encoding_sentence.append(aa_index['OOV'])\n",
        "    encoding_sentences.append(encoding_sentence)\n",
        "print(final_sentence)\n",
        "print(encoding_sentences)"
      ],
      "metadata": {
        "colab": {
          "base_uri": "https://localhost:8080/"
        },
        "id": "JQ7CrC7LaKsY",
        "outputId": "121436c6-71af-4639-f2ac-340cef38fb1c"
      },
      "execution_count": 52,
      "outputs": [
        {
          "output_type": "stream",
          "name": "stdout",
          "text": [
            "[['twinkle', 'twinkle', 'little', 'star'], ['wonder'], ['world', 'high'], ['like', 'diamond', 'sky'], ['blazing', 'sun', 'gone'], ['nothing', 'shines', 'upon'], ['show', 'little', 'light'], ['twinkle', 'twinkle', 'night'], ['traveller', 'dark'], ['thanks', 'little', 'spark'], ['could', 'see', 'way'], ['twinkle'], ['dark', 'blue', 'sky', 'keep'], ['often', 'curtains', 'peep'], ['never', 'shut', 'eye'], ['till', 'sun', 'sky'], ['bright', 'tiny', 'spark'], ['lights', 'traveller', 'dark'], ['though', 'know'], ['twinkle', 'twinkle', 'little', 'star']]\n",
            "[[1, 1, 2, 5], [6], [6, 6], [6, 6, 3], [6, 6, 6], [6, 6, 6], [6, 2, 6], [1, 1, 6], [6, 4], [6, 2, 6], [6, 6, 6], [1], [4, 6, 3, 6], [6, 6, 6], [6, 6, 6], [6, 6, 3], [6, 6, 6], [6, 6, 4], [6, 6], [1, 1, 2, 5]]\n"
          ]
        }
      ]
    }
  ]
}