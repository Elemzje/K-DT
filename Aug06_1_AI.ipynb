{
  "nbformat": 4,
  "nbformat_minor": 0,
  "metadata": {
    "colab": {
      "provenance": [],
      "authorship_tag": "ABX9TyMbc/8LSpAC6gl6mH1vEVHe",
      "include_colab_link": true
    },
    "kernelspec": {
      "name": "python3",
      "display_name": "Python 3"
    },
    "language_info": {
      "name": "python"
    }
  },
  "cells": [
    {
      "cell_type": "markdown",
      "metadata": {
        "id": "view-in-github",
        "colab_type": "text"
      },
      "source": [
        "<a href=\"https://colab.research.google.com/github/Elemzje/K-DT/blob/master/Aug06_1_AI.ipynb\" target=\"_parent\"><img src=\"https://colab.research.google.com/assets/colab-badge.svg\" alt=\"Open In Colab\"/></a>"
      ]
    },
    {
      "cell_type": "markdown",
      "source": [
        "# 인공지능 (Artficial Intelligence)\n",
        "\n",
        "컴퓨터를 학습시켜서 자동으로 개선시킬 수 있도록 컴퓨터 알고리즘을 연구 : 기계 학습\n",
        "\n",
        "AI > ML > DL\n",
        "\n",
        "- AI (Artificial Intelligence)\n",
        "    * 인간의 지능과 유사한 기능을 가진 컴퓨터 시스템\n",
        "    * 인간의 지능을 인공적으로 컴퓨터에 심어놓은 것\n",
        "\n",
        "- ML (Machine Learning)\n",
        "    * 학습 모형을 기반으로 해서 외부에서 들어오는 data들을 스스로 학습하는 것\n",
        "    * 빅데이터를 분석하거나, 가공해서 새로운 정보를 깨우치거나, 미래 예측이 가능하도록 하는 기술\n",
        "    * 쌓아둔 데이터를 토대로 서로간의 상관관계, 특성 등을 찾아냄\n",
        "\n",
        "- DL (Deep Learning)\n",
        "    * 컴퓨터가 다양한 데이터를 기반으로 해서 [스스로] 학습을 할 수 있도록 하는 [인공신경망]을 구축하는 것\n",
        "    * 축적된 데이터에 국한되는 것이 아니라, 데이터를 스스로 학습까지 하는 기계학습능력을 키워서 결과를 도출"
      ],
      "metadata": {
        "id": "-HaHBUWvCEKY"
      }
    },
    {
      "cell_type": "code",
      "execution_count": null,
      "metadata": {
        "id": "oX1MSSr0B0cx"
      },
      "outputs": [],
      "source": []
    }
  ]
}